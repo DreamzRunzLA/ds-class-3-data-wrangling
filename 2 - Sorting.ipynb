{
 "cells": [
  {
   "cell_type": "code",
   "execution_count": 1,
   "metadata": {},
   "outputs": [],
   "source": [
    "import pandas as pd\n",
    "import numpy as np\n",
    "import matplotlib.pyplot as plt\n",
    "from datetime import datetime, timedelta\n",
    "\n",
    "%matplotlib inline"
   ]
  },
  {
   "cell_type": "markdown",
   "metadata": {},
   "source": [
    "# Sorting\n",
    "\n",
    "Sorting in Pandas is extremely easy. There are two important methods to be used for `Series` and `DataFrame`s that will take care of the job: `sort_index` and `sort_values`.\n",
    "\n",
    "Let's start with `Series`, which are the most intuitive ones:"
   ]
  },
  {
   "cell_type": "code",
   "execution_count": 2,
   "metadata": {
    "scrolled": false
   },
   "outputs": [
    {
     "data": {
      "text/plain": [
       "0    73\n",
       "1    77\n",
       "2    17\n",
       "3    19\n",
       "4     9\n",
       "5    87\n",
       "6    78\n",
       "7    50\n",
       "8    83\n",
       "9    75\n",
       "dtype: int64"
      ]
     },
     "execution_count": 2,
     "metadata": {},
     "output_type": "execute_result"
    }
   ],
   "source": [
    "s = pd.Series(np.random.randint(100, size=10))\n",
    "s"
   ]
  },
  {
   "cell_type": "code",
   "execution_count": 3,
   "metadata": {
    "scrolled": true
   },
   "outputs": [
    {
     "data": {
      "text/plain": [
       "4     9\n",
       "2    17\n",
       "3    19\n",
       "7    50\n",
       "0    73\n",
       "9    75\n",
       "1    77\n",
       "6    78\n",
       "8    83\n",
       "5    87\n",
       "dtype: int64"
      ]
     },
     "execution_count": 3,
     "metadata": {},
     "output_type": "execute_result"
    }
   ],
   "source": [
    "s.sort_values()"
   ]
  },
  {
   "cell_type": "code",
   "execution_count": 4,
   "metadata": {
    "scrolled": false
   },
   "outputs": [
    {
     "data": {
      "text/plain": [
       "5    87\n",
       "8    83\n",
       "6    78\n",
       "1    77\n",
       "9    75\n",
       "0    73\n",
       "7    50\n",
       "3    19\n",
       "2    17\n",
       "4     9\n",
       "dtype: int64"
      ]
     },
     "execution_count": 4,
     "metadata": {},
     "output_type": "execute_result"
    }
   ],
   "source": [
    "s.sort_values(ascending=False)"
   ]
  },
  {
   "cell_type": "markdown",
   "metadata": {},
   "source": [
    "As you can see, sorting is as simple as invoking the `sort_values` method. By default, values are sorted in ascending order, which you can customize with the `ascending` parameter. Indexes can also be sorted:"
   ]
  },
  {
   "cell_type": "code",
   "execution_count": 5,
   "metadata": {},
   "outputs": [
    {
     "data": {
      "text/plain": [
       "array([1523393585, 1523379538, 1523382584, 1523384397, 1523392745,\n",
       "       1523381164, 1523384072, 1523383620, 1523383507, 1523380713])"
      ]
     },
     "execution_count": 5,
     "metadata": {},
     "output_type": "execute_result"
    }
   ],
   "source": [
    "timestamps = np.random.randint(\n",
    "    int((datetime.now() - timedelta(hours=5)).timestamp()),\n",
    "    int(datetime.now().timestamp()),\n",
    "    size=10\n",
    ")\n",
    "timestamps"
   ]
  },
  {
   "cell_type": "code",
   "execution_count": 6,
   "metadata": {
    "scrolled": true
   },
   "outputs": [
    {
     "data": {
      "text/plain": [
       "DatetimeIndex(['2018-04-10 20:53:05', '2018-04-10 16:58:58',\n",
       "               '2018-04-10 17:49:44', '2018-04-10 18:19:57',\n",
       "               '2018-04-10 20:39:05', '2018-04-10 17:26:04',\n",
       "               '2018-04-10 18:14:32', '2018-04-10 18:07:00',\n",
       "               '2018-04-10 18:05:07', '2018-04-10 17:18:33'],\n",
       "              dtype='datetime64[ns]', freq=None)"
      ]
     },
     "execution_count": 6,
     "metadata": {},
     "output_type": "execute_result"
    }
   ],
   "source": [
    "index = pd.to_datetime(timestamps, unit='s')\n",
    "index"
   ]
  },
  {
   "cell_type": "code",
   "execution_count": 7,
   "metadata": {},
   "outputs": [
    {
     "data": {
      "text/plain": [
       "2018-04-10 20:53:05    536\n",
       "2018-04-10 16:58:58    520\n",
       "2018-04-10 17:49:44    507\n",
       "2018-04-10 18:19:57    515\n",
       "2018-04-10 20:39:05    543\n",
       "2018-04-10 17:26:04    503\n",
       "2018-04-10 18:14:32    518\n",
       "2018-04-10 18:07:00    501\n",
       "2018-04-10 18:05:07    506\n",
       "2018-04-10 17:18:33    513\n",
       "dtype: int64"
      ]
     },
     "execution_count": 7,
     "metadata": {},
     "output_type": "execute_result"
    }
   ],
   "source": [
    "s = pd.Series(\n",
    "    np.random.randint(500, 550, size=10),\n",
    "    index=index\n",
    ")\n",
    "s"
   ]
  },
  {
   "cell_type": "code",
   "execution_count": 8,
   "metadata": {},
   "outputs": [
    {
     "data": {
      "text/plain": [
       "2018-04-10 16:58:58    520\n",
       "2018-04-10 17:18:33    513\n",
       "2018-04-10 17:26:04    503\n",
       "2018-04-10 17:49:44    507\n",
       "2018-04-10 18:05:07    506\n",
       "2018-04-10 18:07:00    501\n",
       "2018-04-10 18:14:32    518\n",
       "2018-04-10 18:19:57    515\n",
       "2018-04-10 20:39:05    543\n",
       "2018-04-10 20:53:05    536\n",
       "dtype: int64"
      ]
     },
     "execution_count": 8,
     "metadata": {},
     "output_type": "execute_result"
    }
   ],
   "source": [
    "s.sort_index()"
   ]
  },
  {
   "cell_type": "code",
   "execution_count": 9,
   "metadata": {},
   "outputs": [
    {
     "data": {
      "text/plain": [
       "<matplotlib.axes._subplots.AxesSubplot at 0x10bea7c50>"
      ]
     },
     "execution_count": 9,
     "metadata": {},
     "output_type": "execute_result"
    },
    {
     "data": {
      "image/png": "[encoded data removed]",
      "text/plain": [
       "<Figure size 432x288 with 1 Axes>"
      ]
     },
     "metadata": {},
     "output_type": "display_data"
    }
   ],
   "source": [
    "s.sort_index().plot()"
   ]
  },
  {
   "cell_type": "markdown",
   "metadata": {},
   "source": [
    "### Sorting DataFrames\n",
    "\n",
    "Sorting `DataFrame`s is equally as simple, using both the `sort_values` and `sort_index` methods:"
   ]
  },
  {
   "cell_type": "code",
   "execution_count": 10,
   "metadata": {
    "scrolled": true
   },
   "outputs": [
    {
     "data": {
      "text/html": [
       "<div>\n",
       "<style scoped>\n",
       "    .dataframe tbody tr th:only-of-type {\n",
       "        vertical-align: middle;\n",
       "    }\n",
       "\n",
       "    .dataframe tbody tr th {\n",
       "        vertical-align: top;\n",
       "    }\n",
       "\n",
       "    .dataframe thead th {\n",
       "        text-align: right;\n",
       "    }\n",
       "</style>\n",
       "<table border=\"1\" class=\"dataframe\">\n",
       "  <thead>\n",
       "    <tr style=\"text-align: right;\">\n",
       "      <th></th>\n",
       "      <th>Column A</th>\n",
       "      <th>Column B</th>\n",
       "      <th>Column C</th>\n",
       "      <th>Column D</th>\n",
       "    </tr>\n",
       "  </thead>\n",
       "  <tbody>\n",
       "    <tr>\n",
       "      <th>2018-04-10 20:53:05</th>\n",
       "      <td>90</td>\n",
       "      <td>75</td>\n",
       "      <td>74</td>\n",
       "      <td>1</td>\n",
       "    </tr>\n",
       "    <tr>\n",
       "      <th>2018-04-10 16:58:58</th>\n",
       "      <td>60</td>\n",
       "      <td>55</td>\n",
       "      <td>14</td>\n",
       "      <td>20</td>\n",
       "    </tr>\n",
       "    <tr>\n",
       "      <th>2018-04-10 17:49:44</th>\n",
       "      <td>13</td>\n",
       "      <td>98</td>\n",
       "      <td>11</td>\n",
       "      <td>76</td>\n",
       "    </tr>\n",
       "    <tr>\n",
       "      <th>2018-04-10 18:19:57</th>\n",
       "      <td>58</td>\n",
       "      <td>75</td>\n",
       "      <td>82</td>\n",
       "      <td>44</td>\n",
       "    </tr>\n",
       "    <tr>\n",
       "      <th>2018-04-10 20:39:05</th>\n",
       "      <td>16</td>\n",
       "      <td>58</td>\n",
       "      <td>20</td>\n",
       "      <td>69</td>\n",
       "    </tr>\n",
       "    <tr>\n",
       "      <th>2018-04-10 17:26:04</th>\n",
       "      <td>58</td>\n",
       "      <td>49</td>\n",
       "      <td>76</td>\n",
       "      <td>90</td>\n",
       "    </tr>\n",
       "    <tr>\n",
       "      <th>2018-04-10 18:14:32</th>\n",
       "      <td>76</td>\n",
       "      <td>72</td>\n",
       "      <td>28</td>\n",
       "      <td>17</td>\n",
       "    </tr>\n",
       "    <tr>\n",
       "      <th>2018-04-10 18:07:00</th>\n",
       "      <td>14</td>\n",
       "      <td>44</td>\n",
       "      <td>70</td>\n",
       "      <td>15</td>\n",
       "    </tr>\n",
       "    <tr>\n",
       "      <th>2018-04-10 18:05:07</th>\n",
       "      <td>39</td>\n",
       "      <td>13</td>\n",
       "      <td>83</td>\n",
       "      <td>73</td>\n",
       "    </tr>\n",
       "    <tr>\n",
       "      <th>2018-04-10 17:18:33</th>\n",
       "      <td>39</td>\n",
       "      <td>7</td>\n",
       "      <td>37</td>\n",
       "      <td>58</td>\n",
       "    </tr>\n",
       "  </tbody>\n",
       "</table>\n",
       "</div>"
      ],
      "text/plain": [
       "                     Column A  Column B  Column C  Column D\n",
       "2018-04-10 20:53:05        90        75        74         1\n",
       "2018-04-10 16:58:58        60        55        14        20\n",
       "2018-04-10 17:49:44        13        98        11        76\n",
       "2018-04-10 18:19:57        58        75        82        44\n",
       "2018-04-10 20:39:05        16        58        20        69\n",
       "2018-04-10 17:26:04        58        49        76        90\n",
       "2018-04-10 18:14:32        76        72        28        17\n",
       "2018-04-10 18:07:00        14        44        70        15\n",
       "2018-04-10 18:05:07        39        13        83        73\n",
       "2018-04-10 17:18:33        39         7        37        58"
      ]
     },
     "execution_count": 10,
     "metadata": {},
     "output_type": "execute_result"
    }
   ],
   "source": [
    "df = pd.DataFrame(\n",
    "    np.random.randint(100, size=(10, 4)),\n",
    "    columns=['Column %s' % i for i in ('A', 'B', 'C', 'D')],\n",
    "    index=index\n",
    ")\n",
    "df"
   ]
  },
  {
   "cell_type": "markdown",
   "metadata": {},
   "source": [
    "`sort_index` works exactly in the same way:"
   ]
  },
  {
   "cell_type": "code",
   "execution_count": 11,
   "metadata": {},
   "outputs": [
    {
     "data": {
      "text/html": [
       "<div>\n",
       "<style scoped>\n",
       "    .dataframe tbody tr th:only-of-type {\n",
       "        vertical-align: middle;\n",
       "    }\n",
       "\n",
       "    .dataframe tbody tr th {\n",
       "        vertical-align: top;\n",
       "    }\n",
       "\n",
       "    .dataframe thead th {\n",
       "        text-align: right;\n",
       "    }\n",
       "</style>\n",
       "<table border=\"1\" class=\"dataframe\">\n",
       "  <thead>\n",
       "    <tr style=\"text-align: right;\">\n",
       "      <th></th>\n",
       "      <th>Column A</th>\n",
       "      <th>Column B</th>\n",
       "      <th>Column C</th>\n",
       "      <th>Column D</th>\n",
       "    </tr>\n",
       "  </thead>\n",
       "  <tbody>\n",
       "    <tr>\n",
       "      <th>2018-04-10 16:58:58</th>\n",
       "      <td>60</td>\n",
       "      <td>55</td>\n",
       "      <td>14</td>\n",
       "      <td>20</td>\n",
       "    </tr>\n",
       "    <tr>\n",
       "      <th>2018-04-10 17:18:33</th>\n",
       "      <td>39</td>\n",
       "      <td>7</td>\n",
       "      <td>37</td>\n",
       "      <td>58</td>\n",
       "    </tr>\n",
       "    <tr>\n",
       "      <th>2018-04-10 17:26:04</th>\n",
       "      <td>58</td>\n",
       "      <td>49</td>\n",
       "      <td>76</td>\n",
       "      <td>90</td>\n",
       "    </tr>\n",
       "    <tr>\n",
       "      <th>2018-04-10 17:49:44</th>\n",
       "      <td>13</td>\n",
       "      <td>98</td>\n",
       "      <td>11</td>\n",
       "      <td>76</td>\n",
       "    </tr>\n",
       "    <tr>\n",
       "      <th>2018-04-10 18:05:07</th>\n",
       "      <td>39</td>\n",
       "      <td>13</td>\n",
       "      <td>83</td>\n",
       "      <td>73</td>\n",
       "    </tr>\n",
       "    <tr>\n",
       "      <th>2018-04-10 18:07:00</th>\n",
       "      <td>14</td>\n",
       "      <td>44</td>\n",
       "      <td>70</td>\n",
       "      <td>15</td>\n",
       "    </tr>\n",
       "    <tr>\n",
       "      <th>2018-04-10 18:14:32</th>\n",
       "      <td>76</td>\n",
       "      <td>72</td>\n",
       "      <td>28</td>\n",
       "      <td>17</td>\n",
       "    </tr>\n",
       "    <tr>\n",
       "      <th>2018-04-10 18:19:57</th>\n",
       "      <td>58</td>\n",
       "      <td>75</td>\n",
       "      <td>82</td>\n",
       "      <td>44</td>\n",
       "    </tr>\n",
       "    <tr>\n",
       "      <th>2018-04-10 20:39:05</th>\n",
       "      <td>16</td>\n",
       "      <td>58</td>\n",
       "      <td>20</td>\n",
       "      <td>69</td>\n",
       "    </tr>\n",
       "    <tr>\n",
       "      <th>2018-04-10 20:53:05</th>\n",
       "      <td>90</td>\n",
       "      <td>75</td>\n",
       "      <td>74</td>\n",
       "      <td>1</td>\n",
       "    </tr>\n",
       "  </tbody>\n",
       "</table>\n",
       "</div>"
      ],
      "text/plain": [
       "                     Column A  Column B  Column C  Column D\n",
       "2018-04-10 16:58:58        60        55        14        20\n",
       "2018-04-10 17:18:33        39         7        37        58\n",
       "2018-04-10 17:26:04        58        49        76        90\n",
       "2018-04-10 17:49:44        13        98        11        76\n",
       "2018-04-10 18:05:07        39        13        83        73\n",
       "2018-04-10 18:07:00        14        44        70        15\n",
       "2018-04-10 18:14:32        76        72        28        17\n",
       "2018-04-10 18:19:57        58        75        82        44\n",
       "2018-04-10 20:39:05        16        58        20        69\n",
       "2018-04-10 20:53:05        90        75        74         1"
      ]
     },
     "execution_count": 11,
     "metadata": {},
     "output_type": "execute_result"
    }
   ],
   "source": [
    "df.sort_index()"
   ]
  },
  {
   "cell_type": "code",
   "execution_count": 12,
   "metadata": {},
   "outputs": [],
   "source": [
    "df.sort_index(inplace=True)"
   ]
  },
  {
   "cell_type": "markdown",
   "metadata": {},
   "source": [
    "We need a few duplicate values to explain multiple-column sorting later:"
   ]
  },
  {
   "cell_type": "code",
   "execution_count": 13,
   "metadata": {},
   "outputs": [],
   "source": [
    "df.iloc[2:6, 0] = 99"
   ]
  },
  {
   "cell_type": "code",
   "execution_count": 14,
   "metadata": {},
   "outputs": [
    {
     "data": {
      "text/html": [
       "<div>\n",
       "<style scoped>\n",
       "    .dataframe tbody tr th:only-of-type {\n",
       "        vertical-align: middle;\n",
       "    }\n",
       "\n",
       "    .dataframe tbody tr th {\n",
       "        vertical-align: top;\n",
       "    }\n",
       "\n",
       "    .dataframe thead th {\n",
       "        text-align: right;\n",
       "    }\n",
       "</style>\n",
       "<table border=\"1\" class=\"dataframe\">\n",
       "  <thead>\n",
       "    <tr style=\"text-align: right;\">\n",
       "      <th></th>\n",
       "      <th>Column A</th>\n",
       "      <th>Column B</th>\n",
       "      <th>Column C</th>\n",
       "      <th>Column D</th>\n",
       "    </tr>\n",
       "  </thead>\n",
       "  <tbody>\n",
       "    <tr>\n",
       "      <th>2018-04-10 16:58:58</th>\n",
       "      <td>60</td>\n",
       "      <td>55</td>\n",
       "      <td>14</td>\n",
       "      <td>20</td>\n",
       "    </tr>\n",
       "    <tr>\n",
       "      <th>2018-04-10 17:18:33</th>\n",
       "      <td>39</td>\n",
       "      <td>7</td>\n",
       "      <td>37</td>\n",
       "      <td>58</td>\n",
       "    </tr>\n",
       "    <tr>\n",
       "      <th>2018-04-10 17:26:04</th>\n",
       "      <td>99</td>\n",
       "      <td>49</td>\n",
       "      <td>76</td>\n",
       "      <td>90</td>\n",
       "    </tr>\n",
       "    <tr>\n",
       "      <th>2018-04-10 17:49:44</th>\n",
       "      <td>99</td>\n",
       "      <td>98</td>\n",
       "      <td>11</td>\n",
       "      <td>76</td>\n",
       "    </tr>\n",
       "    <tr>\n",
       "      <th>2018-04-10 18:05:07</th>\n",
       "      <td>99</td>\n",
       "      <td>13</td>\n",
       "      <td>83</td>\n",
       "      <td>73</td>\n",
       "    </tr>\n",
       "    <tr>\n",
       "      <th>2018-04-10 18:07:00</th>\n",
       "      <td>99</td>\n",
       "      <td>44</td>\n",
       "      <td>70</td>\n",
       "      <td>15</td>\n",
       "    </tr>\n",
       "    <tr>\n",
       "      <th>2018-04-10 18:14:32</th>\n",
       "      <td>76</td>\n",
       "      <td>72</td>\n",
       "      <td>28</td>\n",
       "      <td>17</td>\n",
       "    </tr>\n",
       "    <tr>\n",
       "      <th>2018-04-10 18:19:57</th>\n",
       "      <td>58</td>\n",
       "      <td>75</td>\n",
       "      <td>82</td>\n",
       "      <td>44</td>\n",
       "    </tr>\n",
       "    <tr>\n",
       "      <th>2018-04-10 20:39:05</th>\n",
       "      <td>16</td>\n",
       "      <td>58</td>\n",
       "      <td>20</td>\n",
       "      <td>69</td>\n",
       "    </tr>\n",
       "    <tr>\n",
       "      <th>2018-04-10 20:53:05</th>\n",
       "      <td>90</td>\n",
       "      <td>75</td>\n",
       "      <td>74</td>\n",
       "      <td>1</td>\n",
       "    </tr>\n",
       "  </tbody>\n",
       "</table>\n",
       "</div>"
      ],
      "text/plain": [
       "                     Column A  Column B  Column C  Column D\n",
       "2018-04-10 16:58:58        60        55        14        20\n",
       "2018-04-10 17:18:33        39         7        37        58\n",
       "2018-04-10 17:26:04        99        49        76        90\n",
       "2018-04-10 17:49:44        99        98        11        76\n",
       "2018-04-10 18:05:07        99        13        83        73\n",
       "2018-04-10 18:07:00        99        44        70        15\n",
       "2018-04-10 18:14:32        76        72        28        17\n",
       "2018-04-10 18:19:57        58        75        82        44\n",
       "2018-04-10 20:39:05        16        58        20        69\n",
       "2018-04-10 20:53:05        90        75        74         1"
      ]
     },
     "execution_count": 14,
     "metadata": {},
     "output_type": "execute_result"
    }
   ],
   "source": [
    "df"
   ]
  },
  {
   "cell_type": "code",
   "execution_count": 15,
   "metadata": {},
   "outputs": [
    {
     "data": {
      "text/html": [
       "<div>\n",
       "<style scoped>\n",
       "    .dataframe tbody tr th:only-of-type {\n",
       "        vertical-align: middle;\n",
       "    }\n",
       "\n",
       "    .dataframe tbody tr th {\n",
       "        vertical-align: top;\n",
       "    }\n",
       "\n",
       "    .dataframe thead th {\n",
       "        text-align: right;\n",
       "    }\n",
       "</style>\n",
       "<table border=\"1\" class=\"dataframe\">\n",
       "  <thead>\n",
       "    <tr style=\"text-align: right;\">\n",
       "      <th></th>\n",
       "      <th>Column A</th>\n",
       "      <th>Column B</th>\n",
       "      <th>Column C</th>\n",
       "      <th>Column D</th>\n",
       "    </tr>\n",
       "  </thead>\n",
       "  <tbody>\n",
       "    <tr>\n",
       "      <th>2018-04-10 17:18:33</th>\n",
       "      <td>39</td>\n",
       "      <td>7</td>\n",
       "      <td>37</td>\n",
       "      <td>58</td>\n",
       "    </tr>\n",
       "    <tr>\n",
       "      <th>2018-04-10 18:05:07</th>\n",
       "      <td>99</td>\n",
       "      <td>13</td>\n",
       "      <td>83</td>\n",
       "      <td>73</td>\n",
       "    </tr>\n",
       "    <tr>\n",
       "      <th>2018-04-10 18:07:00</th>\n",
       "      <td>99</td>\n",
       "      <td>44</td>\n",
       "      <td>70</td>\n",
       "      <td>15</td>\n",
       "    </tr>\n",
       "    <tr>\n",
       "      <th>2018-04-10 17:26:04</th>\n",
       "      <td>99</td>\n",
       "      <td>49</td>\n",
       "      <td>76</td>\n",
       "      <td>90</td>\n",
       "    </tr>\n",
       "    <tr>\n",
       "      <th>2018-04-10 16:58:58</th>\n",
       "      <td>60</td>\n",
       "      <td>55</td>\n",
       "      <td>14</td>\n",
       "      <td>20</td>\n",
       "    </tr>\n",
       "    <tr>\n",
       "      <th>2018-04-10 20:39:05</th>\n",
       "      <td>16</td>\n",
       "      <td>58</td>\n",
       "      <td>20</td>\n",
       "      <td>69</td>\n",
       "    </tr>\n",
       "    <tr>\n",
       "      <th>2018-04-10 18:14:32</th>\n",
       "      <td>76</td>\n",
       "      <td>72</td>\n",
       "      <td>28</td>\n",
       "      <td>17</td>\n",
       "    </tr>\n",
       "    <tr>\n",
       "      <th>2018-04-10 18:19:57</th>\n",
       "      <td>58</td>\n",
       "      <td>75</td>\n",
       "      <td>82</td>\n",
       "      <td>44</td>\n",
       "    </tr>\n",
       "    <tr>\n",
       "      <th>2018-04-10 20:53:05</th>\n",
       "      <td>90</td>\n",
       "      <td>75</td>\n",
       "      <td>74</td>\n",
       "      <td>1</td>\n",
       "    </tr>\n",
       "    <tr>\n",
       "      <th>2018-04-10 17:49:44</th>\n",
       "      <td>99</td>\n",
       "      <td>98</td>\n",
       "      <td>11</td>\n",
       "      <td>76</td>\n",
       "    </tr>\n",
       "  </tbody>\n",
       "</table>\n",
       "</div>"
      ],
      "text/plain": [
       "                     Column A  Column B  Column C  Column D\n",
       "2018-04-10 17:18:33        39         7        37        58\n",
       "2018-04-10 18:05:07        99        13        83        73\n",
       "2018-04-10 18:07:00        99        44        70        15\n",
       "2018-04-10 17:26:04        99        49        76        90\n",
       "2018-04-10 16:58:58        60        55        14        20\n",
       "2018-04-10 20:39:05        16        58        20        69\n",
       "2018-04-10 18:14:32        76        72        28        17\n",
       "2018-04-10 18:19:57        58        75        82        44\n",
       "2018-04-10 20:53:05        90        75        74         1\n",
       "2018-04-10 17:49:44        99        98        11        76"
      ]
     },
     "execution_count": 15,
     "metadata": {},
     "output_type": "execute_result"
    }
   ],
   "source": [
    "df.sort_values('Column B')"
   ]
  },
  {
   "cell_type": "code",
   "execution_count": 16,
   "metadata": {
    "scrolled": false
   },
   "outputs": [
    {
     "data": {
      "text/html": [
       "<div>\n",
       "<style scoped>\n",
       "    .dataframe tbody tr th:only-of-type {\n",
       "        vertical-align: middle;\n",
       "    }\n",
       "\n",
       "    .dataframe tbody tr th {\n",
       "        vertical-align: top;\n",
       "    }\n",
       "\n",
       "    .dataframe thead th {\n",
       "        text-align: right;\n",
       "    }\n",
       "</style>\n",
       "<table border=\"1\" class=\"dataframe\">\n",
       "  <thead>\n",
       "    <tr style=\"text-align: right;\">\n",
       "      <th></th>\n",
       "      <th>Column A</th>\n",
       "      <th>Column B</th>\n",
       "      <th>Column C</th>\n",
       "      <th>Column D</th>\n",
       "    </tr>\n",
       "  </thead>\n",
       "  <tbody>\n",
       "    <tr>\n",
       "      <th>2018-04-10 20:39:05</th>\n",
       "      <td>16</td>\n",
       "      <td>58</td>\n",
       "      <td>20</td>\n",
       "      <td>69</td>\n",
       "    </tr>\n",
       "    <tr>\n",
       "      <th>2018-04-10 17:18:33</th>\n",
       "      <td>39</td>\n",
       "      <td>7</td>\n",
       "      <td>37</td>\n",
       "      <td>58</td>\n",
       "    </tr>\n",
       "    <tr>\n",
       "      <th>2018-04-10 18:19:57</th>\n",
       "      <td>58</td>\n",
       "      <td>75</td>\n",
       "      <td>82</td>\n",
       "      <td>44</td>\n",
       "    </tr>\n",
       "    <tr>\n",
       "      <th>2018-04-10 16:58:58</th>\n",
       "      <td>60</td>\n",
       "      <td>55</td>\n",
       "      <td>14</td>\n",
       "      <td>20</td>\n",
       "    </tr>\n",
       "    <tr>\n",
       "      <th>2018-04-10 18:14:32</th>\n",
       "      <td>76</td>\n",
       "      <td>72</td>\n",
       "      <td>28</td>\n",
       "      <td>17</td>\n",
       "    </tr>\n",
       "    <tr>\n",
       "      <th>2018-04-10 20:53:05</th>\n",
       "      <td>90</td>\n",
       "      <td>75</td>\n",
       "      <td>74</td>\n",
       "      <td>1</td>\n",
       "    </tr>\n",
       "    <tr>\n",
       "      <th>2018-04-10 18:07:00</th>\n",
       "      <td>99</td>\n",
       "      <td>44</td>\n",
       "      <td>70</td>\n",
       "      <td>15</td>\n",
       "    </tr>\n",
       "    <tr>\n",
       "      <th>2018-04-10 18:05:07</th>\n",
       "      <td>99</td>\n",
       "      <td>13</td>\n",
       "      <td>83</td>\n",
       "      <td>73</td>\n",
       "    </tr>\n",
       "    <tr>\n",
       "      <th>2018-04-10 17:49:44</th>\n",
       "      <td>99</td>\n",
       "      <td>98</td>\n",
       "      <td>11</td>\n",
       "      <td>76</td>\n",
       "    </tr>\n",
       "    <tr>\n",
       "      <th>2018-04-10 17:26:04</th>\n",
       "      <td>99</td>\n",
       "      <td>49</td>\n",
       "      <td>76</td>\n",
       "      <td>90</td>\n",
       "    </tr>\n",
       "  </tbody>\n",
       "</table>\n",
       "</div>"
      ],
      "text/plain": [
       "                     Column A  Column B  Column C  Column D\n",
       "2018-04-10 20:39:05        16        58        20        69\n",
       "2018-04-10 17:18:33        39         7        37        58\n",
       "2018-04-10 18:19:57        58        75        82        44\n",
       "2018-04-10 16:58:58        60        55        14        20\n",
       "2018-04-10 18:14:32        76        72        28        17\n",
       "2018-04-10 20:53:05        90        75        74         1\n",
       "2018-04-10 18:07:00        99        44        70        15\n",
       "2018-04-10 18:05:07        99        13        83        73\n",
       "2018-04-10 17:49:44        99        98        11        76\n",
       "2018-04-10 17:26:04        99        49        76        90"
      ]
     },
     "execution_count": 16,
     "metadata": {},
     "output_type": "execute_result"
    }
   ],
   "source": [
    "df.sort_values(by=['Column A', 'Column D'])"
   ]
  }
 ],
 "metadata": {
  "kernelspec": {
   "display_name": "Python 3",
   "language": "python",
   "name": "python3"
  },
  "language_info": {
   "codemirror_mode": {
    "name": "ipython",
    "version": 3
   },
   "file_extension": ".py",
   "mimetype": "text/x-python",
   "name": "python",
   "nbconvert_exporter": "python",
   "pygments_lexer": "ipython3",
   "version": "3.6.4"
  }
 },
 "nbformat": 4,
 "nbformat_minor": 2
}
